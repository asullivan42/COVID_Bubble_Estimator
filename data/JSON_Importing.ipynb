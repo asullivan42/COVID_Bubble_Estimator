{
 "cells": [
  {
   "cell_type": "markdown",
   "id": "298880aa-d3d9-4c5f-954c-6d5d0a4eac92",
   "metadata": {},
   "source": [
    "# Practice working with JSON files w/o Pandas or Numpy"
   ]
  },
  {
   "cell_type": "markdown",
   "id": "9111f1cc-8f43-42a7-99c9-34f6680feba7",
   "metadata": {},
   "source": [
    "## Importing the JSON reading library (aka the easy way)"
   ]
  },
  {
   "cell_type": "code",
   "execution_count": 1,
   "id": "e37efefb-d90c-4f2f-a8e9-9b6629eb49d7",
   "metadata": {},
   "outputs": [],
   "source": [
    "import json"
   ]
  },
  {
   "cell_type": "code",
   "execution_count": 2,
   "id": "41e865a3-4cb0-44ee-8d56-67188caf8c77",
   "metadata": {},
   "outputs": [],
   "source": [
    "with open('us_county_population_data.json','r') as f:\n",
    "    data=json.load(f)"
   ]
  },
  {
   "cell_type": "code",
   "execution_count": 3,
   "id": "42f9c145-1c7a-4897-a4e0-21b2d40ba52b",
   "metadata": {},
   "outputs": [
    {
     "data": {
      "text/plain": [
       "{'State': 'California',\n",
       " 'pop2022': 9934710,\n",
       " 'pop2010': 9823246,\n",
       " 'GrowthRate': '0.0113'}"
      ]
     },
     "execution_count": 3,
     "metadata": {},
     "output_type": "execute_result"
    }
   ],
   "source": [
    "data[0]"
   ]
  },
  {
   "cell_type": "code",
   "execution_count": 4,
   "id": "28e97066-e631-4ec7-a637-79988e134845",
   "metadata": {},
   "outputs": [
    {
     "data": {
      "text/plain": [
       "list"
      ]
     },
     "execution_count": 4,
     "metadata": {},
     "output_type": "execute_result"
    }
   ],
   "source": [
    "type(data)"
   ]
  },
  {
   "cell_type": "code",
   "execution_count": 5,
   "id": "71fa5b9f-b55b-4de6-a1f4-b46ff3d53fdc",
   "metadata": {},
   "outputs": [
    {
     "data": {
      "text/plain": [
       "dict"
      ]
     },
     "execution_count": 5,
     "metadata": {},
     "output_type": "execute_result"
    }
   ],
   "source": [
    "type(data[0])"
   ]
  },
  {
   "cell_type": "code",
   "execution_count": 6,
   "id": "307d3a00-c4b4-441b-9fb7-bb430ca72881",
   "metadata": {},
   "outputs": [
    {
     "data": {
      "text/plain": [
       "[{'State': 'California',\n",
       "  'pop2022': 9934710,\n",
       "  'pop2010': 9823246,\n",
       "  'GrowthRate': '0.0113'},\n",
       " {'State': 'Illinois',\n",
       "  'pop2022': 5085052,\n",
       "  'pop2010': 5199016,\n",
       "  'GrowthRate': '-0.0219'}]"
      ]
     },
     "execution_count": 6,
     "metadata": {},
     "output_type": "execute_result"
    }
   ],
   "source": [
    "data[:2]"
   ]
  },
  {
   "cell_type": "code",
   "execution_count": 9,
   "id": "9f7556c1-4973-458c-8f07-849a2e8874a3",
   "metadata": {},
   "outputs": [
    {
     "name": "stdout",
     "output_type": "stream",
     "text": [
      "5085052\n",
      "909943\n",
      "689525\n",
      "687379\n",
      "531452\n"
     ]
    }
   ],
   "source": [
    "# So this way I have a list of dictionaries.  All I have to do is search the list for the dictinary where I get the right entry\n",
    "# If I were looking for the dictionary with for instance the state of Illinois and ask it what the population was in 2022\n",
    "for n in data:\n",
    "    if n['State']=='Illinois':\n",
    "        print(n['pop2022'])"
   ]
  },
  {
   "cell_type": "code",
   "execution_count": null,
   "id": "5527827b-ed6b-41a9-9d00-e7397097d98f",
   "metadata": {},
   "outputs": [],
   "source": [
    "# Looks like we have multiple entries for Illinois,  but still it works"
   ]
  },
  {
   "cell_type": "markdown",
   "id": "953936da-b4c4-4659-94bd-cbe3a2831cbb",
   "metadata": {},
   "source": [
    "## opening a JSON file w/o any libraries (aka the hard way)\n",
    "\n",
    "First thing to remember is that JSON files are essentially a string containing a dictionary."
   ]
  },
  {
   "cell_type": "code",
   "execution_count": 10,
   "id": "563ec6d6-3f78-437d-bf2f-3ca14c7f38aa",
   "metadata": {},
   "outputs": [],
   "source": [
    "with open('us_county_population_data.json', 'r') as file:\n",
    "    d=file.read()"
   ]
  },
  {
   "cell_type": "code",
   "execution_count": 11,
   "id": "6f701d93-b720-4a47-8524-61cf34739d7b",
   "metadata": {},
   "outputs": [
    {
     "data": {
      "text/plain": [
       "'[\\n  {\\n    \"State\": \"California\",\\n    \"pop2022\": 9934710,\\n    \"pop2010\": 9823246,\\n    \"GrowthRate\": \"0.0113\"\\n  },\\n  '"
      ]
     },
     "execution_count": 11,
     "metadata": {},
     "output_type": "execute_result"
    }
   ],
   "source": [
    "d[:115]"
   ]
  },
  {
   "cell_type": "code",
   "execution_count": 12,
   "id": "d1ea519e-a691-4fe1-b9ca-1f56faa5019e",
   "metadata": {},
   "outputs": [
    {
     "name": "stdout",
     "output_type": "stream",
     "text": [
      "[\n",
      "  {\n",
      "    \"State\": \"California\",\n",
      "    \"pop2022\": 9934710,\n",
      "    \"pop2010\": 9823246,\n",
      "    \"GrowthRate\": \"0.0113\"\n",
      "  },\n",
      "  \n"
     ]
    }
   ],
   "source": [
    "## So what we have here is a large number of '\\n carrage return operators'\n",
    "print(d[:115])"
   ]
  },
  {
   "cell_type": "code",
   "execution_count": 13,
   "id": "610dd701-acf8-452b-a6d5-9237942cb770",
   "metadata": {},
   "outputs": [
    {
     "data": {
      "text/plain": [
       "'[  {    \"State\": \"California\",    \"pop2022\": 9934710,    \"pop2010\": 9823246,    \"GrowthRate\": \"0.0113'"
      ]
     },
     "execution_count": 13,
     "metadata": {},
     "output_type": "execute_result"
    }
   ],
   "source": [
    "# okay so first thing I believe I need to do is remove all the \\n so I can get to the meat of the data\n",
    "d=d.replace('\\n','')\n",
    "d[:101]"
   ]
  },
  {
   "cell_type": "code",
   "execution_count": 14,
   "id": "755cefaf-88cc-4885-aa48-30160e584763",
   "metadata": {},
   "outputs": [
    {
     "name": "stdout",
     "output_type": "stream",
     "text": [
      "[{\"State\":\"California\",\"pop2022\":9934710,\"pop2010\":9823246,\"GrowthRate\":\"0.0113\"},{\"State\":\"Illinois\n"
     ]
    }
   ],
   "source": [
    "# Next I bgelieve we have a lot of tabs and white space, so lets eliminate all the extraneous spaces\n",
    "# this would be more difficult if some of the tags had spaces in it, but I think we are lucky with \n",
    "# this dataset.  Also I'll get rid of the square brackets since they aren't helpful here\n",
    "d=d.replace(' ','')\n",
    "print(d[:100])"
   ]
  },
  {
   "cell_type": "code",
   "execution_count": 15,
   "id": "1c5464db-c486-4b02-b03a-6f89de90b34b",
   "metadata": {},
   "outputs": [
    {
     "data": {
      "text/plain": [
       "['[\"State\":\"California\",\"pop2022\":9934710,\"pop2010\":9823246,\"GrowthRate\":\"0.0113\"',\n",
       " ',\"State\":\"Illinois\",\"pop2022\":5085052,\"pop2010\":5199016,\"GrowthRate\":\"-0.0219\"',\n",
       " ',\"State\":\"Texas\",\"pop2022\":4813165,\"pop2010\":4107666,\"GrowthRate\":\"0.1718\"']"
      ]
     },
     "execution_count": 15,
     "metadata": {},
     "output_type": "execute_result"
    }
   ],
   "source": [
    "# Looks great.  Now lets capture everything withing the curley brackets '{}'\n",
    "new_data=d.replace('{','').split('}')\n",
    "new_data[:3]"
   ]
  },
  {
   "cell_type": "code",
   "execution_count": 16,
   "id": "0fcced2e-dfe6-4f36-8d90-abbd14b54932",
   "metadata": {},
   "outputs": [
    {
     "data": {
      "text/plain": [
       "[['[\"State\":\"California\"',\n",
       "  '\"pop2022\":9934710',\n",
       "  '\"pop2010\":9823246',\n",
       "  '\"GrowthRate\":\"0.0113\"'],\n",
       " ['',\n",
       "  '\"State\":\"Illinois\"',\n",
       "  '\"pop2022\":5085052',\n",
       "  '\"pop2010\":5199016',\n",
       "  '\"GrowthRate\":\"-0.0219\"'],\n",
       " ['',\n",
       "  '\"State\":\"Texas\"',\n",
       "  '\"pop2022\":4813165',\n",
       "  '\"pop2010\":4107666',\n",
       "  '\"GrowthRate\":\"0.1718\"']]"
      ]
     },
     "execution_count": 16,
     "metadata": {},
     "output_type": "execute_result"
    }
   ],
   "source": [
    "# awesome So now I have the data in list format and need to turn that list into a dictionary\n",
    "# First I want to see what happens if I split this again by the colon ':'\n",
    "new_data1=[x.split(',') for x in new_data]\n",
    "new_data1[:3]"
   ]
  },
  {
   "cell_type": "code",
   "execution_count": 17,
   "id": "814a4387-f921-47a9-8991-c31ee5677459",
   "metadata": {},
   "outputs": [
    {
     "name": "stdout",
     "output_type": "stream",
     "text": [
      "['[\"State\":\"California\"', '\"pop2022\":9934710', '\"pop2010\":9823246', '\"GrowthRate\":\"0.0113\"']\n",
      "[']']\n"
     ]
    }
   ],
   "source": [
    "# looks like I have an extra space in each entry beyond 1\n",
    "for n in new_data1:\n",
    "    if len(n)==5:\n",
    "        n.pop(0)\n",
    "    else:\n",
    "        print(n)"
   ]
  },
  {
   "cell_type": "code",
   "execution_count": 18,
   "id": "4e521541-213b-45fb-93db-1ea80a4bef7f",
   "metadata": {},
   "outputs": [
    {
     "data": {
      "text/plain": [
       "[['[\"State\"', '\"California\"'],\n",
       " ['\"pop2022\"', '9934710'],\n",
       " ['\"pop2010\"', '9823246'],\n",
       " ['\"GrowthRate\"', '\"0.0113\"'],\n",
       " ['\"State\"', '\"Illinois\"'],\n",
       " ['\"pop2022\"', '5085052'],\n",
       " ['\"pop2010\"', '5199016'],\n",
       " ['\"GrowthRate\"', '\"-0.0219\"']]"
      ]
     },
     "execution_count": 18,
     "metadata": {},
     "output_type": "execute_result"
    }
   ],
   "source": [
    "new_data2=[]\n",
    "for n in new_data1:\n",
    "    for j in n:\n",
    "        new_data2.append(j.split(':'))\n",
    "new_data2[:8]\n",
    "    "
   ]
  },
  {
   "cell_type": "code",
   "execution_count": 20,
   "id": "983a639c-ebea-40e4-85f0-90994115b3de",
   "metadata": {},
   "outputs": [
    {
     "data": {
      "text/plain": [
       "[['\"pop2022\"', '368680'],\n",
       " ['\"pop2010\"', '375372'],\n",
       " ['\"GrowthRate\"', '\"-0.0178\"'],\n",
       " ['\"State\"', '\"Utah\"'],\n",
       " ['\"pop2022\"', '368621'],\n",
       " ['\"pop2010\"', '307910'],\n",
       " ['\"GrowthRate\"', '\"0.1972\"'],\n",
       " [']']]"
      ]
     },
     "execution_count": 20,
     "metadata": {},
     "output_type": "execute_result"
    }
   ],
   "source": [
    "new_data2[-8:]"
   ]
  },
  {
   "cell_type": "code",
   "execution_count": 21,
   "id": "012e700d-6239-487f-bae9-14479705fd63",
   "metadata": {},
   "outputs": [
    {
     "data": {
      "text/plain": [
       "[']']"
      ]
     },
     "execution_count": 21,
     "metadata": {},
     "output_type": "execute_result"
    }
   ],
   "source": [
    "# I have the last entry as a hanging bracket\n",
    "new_data2.pop(-1)"
   ]
  },
  {
   "cell_type": "code",
   "execution_count": 22,
   "id": "60119822-522b-4bf5-81af-d88d13a8c29d",
   "metadata": {},
   "outputs": [
    {
     "data": {
      "text/plain": [
       "dict_keys(['[\"State\"', '\"pop2022\"', '\"pop2010\"', '\"GrowthRate\"', '\"State\"'])"
      ]
     },
     "execution_count": 22,
     "metadata": {},
     "output_type": "execute_result"
    }
   ],
   "source": [
    "k=dict()\n",
    "for n in new_data2:\n",
    "    k[n[0]]=n[1]\n",
    "k.keys()\n"
   ]
  },
  {
   "cell_type": "code",
   "execution_count": 23,
   "id": "be4f2624-5c07-4142-acd1-39ecf6821c2f",
   "metadata": {},
   "outputs": [],
   "source": [
    "# That almost worked but I have an extra bracket in the beginning, b/c this was a list of dictionaries\n",
    "new_data2[0][0]='\"State\"'\n"
   ]
  },
  {
   "cell_type": "code",
   "execution_count": 24,
   "id": "740bc118-6103-47bc-83d9-33084a29f59a",
   "metadata": {},
   "outputs": [
    {
     "data": {
      "text/plain": [
       "dict_keys(['\"State\"', '\"pop2022\"', '\"pop2010\"', '\"GrowthRate\"'])"
      ]
     },
     "execution_count": 24,
     "metadata": {},
     "output_type": "execute_result"
    }
   ],
   "source": [
    "k=dict()\n",
    "for n in new_data2:\n",
    "    k[n[0]]=n[1]\n",
    "k.keys()"
   ]
  },
  {
   "cell_type": "code",
   "execution_count": 25,
   "id": "c59bfd53-60a9-4fdd-a23f-5dd74c7ef41a",
   "metadata": {},
   "outputs": [
    {
     "data": {
      "text/plain": [
       "{'\"State\"': '\"Utah\"',\n",
       " '\"pop2022\"': '368621',\n",
       " '\"pop2010\"': '307910',\n",
       " '\"GrowthRate\"': '\"0.1972\"'}"
      ]
     },
     "execution_count": 25,
     "metadata": {},
     "output_type": "execute_result"
    }
   ],
   "source": [
    "# this overwrote the previous dictionary entries.\n",
    "k"
   ]
  },
  {
   "cell_type": "code",
   "execution_count": 26,
   "id": "deb6ef30-84b7-4af1-90ff-2c22aaed567f",
   "metadata": {},
   "outputs": [
    {
     "data": {
      "text/plain": [
       "'\"Utah\"'"
      ]
     },
     "execution_count": 26,
     "metadata": {},
     "output_type": "execute_result"
    }
   ],
   "source": [
    "k['\"State\"']"
   ]
  },
  {
   "cell_type": "code",
   "execution_count": 27,
   "id": "ca4bbcc2-dcbb-4244-93ec-f7e1bc9a1cdc",
   "metadata": {},
   "outputs": [
    {
     "data": {
      "text/plain": [
       "{'State': ['Alabama', 'Alaska', 'Arazona'],\n",
       " 'pop2020': [23451, 21365, 64213],\n",
       " 'pop2010': [12345, 13245, 14267]}"
      ]
     },
     "execution_count": 27,
     "metadata": {},
     "output_type": "execute_result"
    }
   ],
   "source": [
    "# What is it I actually want this to do?\n",
    "# What I want is a data frame, but I can't use NUMPY or PANDAS\n",
    "state_dict={\"State\":[\"Alabama\",\"Alaska\",\"Arazona\"],\"pop2020\":[23451,21365,64213],\"pop2010\":[12345,13245,14267]}\n",
    "state_dict"
   ]
  },
  {
   "cell_type": "code",
   "execution_count": 28,
   "id": "1f814a88-1eff-4123-9b93-ecd8e6e42ff5",
   "metadata": {},
   "outputs": [
    {
     "data": {
      "text/plain": [
       "dict_keys(['State', 'pop2020', 'pop2010'])"
      ]
     },
     "execution_count": 28,
     "metadata": {},
     "output_type": "execute_result"
    }
   ],
   "source": [
    "state_dict.keys()"
   ]
  },
  {
   "cell_type": "code",
   "execution_count": 29,
   "id": "8fc055ac-54f9-498b-9703-985189aecd5f",
   "metadata": {},
   "outputs": [
    {
     "data": {
      "text/plain": [
       "dict_values([['Alabama', 'Alaska', 'Arazona'], [23451, 21365, 64213], [12345, 13245, 14267]])"
      ]
     },
     "execution_count": 29,
     "metadata": {},
     "output_type": "execute_result"
    }
   ],
   "source": [
    "state_dict.values()"
   ]
  },
  {
   "cell_type": "code",
   "execution_count": null,
   "id": "f0ff17b9-9771-43c3-a2bd-882bc869aba0",
   "metadata": {},
   "outputs": [],
   "source": [
    "state_dict[\"State\"]"
   ]
  },
  {
   "cell_type": "code",
   "execution_count": null,
   "id": "a0a431c0-cbe5-4d6b-8f7c-99a91ce38e13",
   "metadata": {},
   "outputs": [],
   "source": []
  }
 ],
 "metadata": {
  "kernelspec": {
   "display_name": "Python 3 (ipykernel)",
   "language": "python",
   "name": "python3"
  },
  "language_info": {
   "codemirror_mode": {
    "name": "ipython",
    "version": 3
   },
   "file_extension": ".py",
   "mimetype": "text/x-python",
   "name": "python",
   "nbconvert_exporter": "python",
   "pygments_lexer": "ipython3",
   "version": "3.8.13"
  }
 },
 "nbformat": 4,
 "nbformat_minor": 5
}
