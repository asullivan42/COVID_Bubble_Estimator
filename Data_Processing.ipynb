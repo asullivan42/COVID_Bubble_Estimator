{
 "cells": [
  {
   "cell_type": "markdown",
   "metadata": {},
   "source": [
    "# This is the data analysis test workbook\n",
    "\n",
    "Goals include setting up data tables for each type of data\n",
    "\n",
    "Plotting a line graph of the data\n",
    "\n",
    "Allowing the person looking at the data to choose which county or country they wish to look at"
   ]
  },
  {
   "cell_type": "code",
   "execution_count": null,
   "metadata": {},
   "outputs": [],
   "source": [
    "import numpy as np\n",
    "import pandas as pd\n",
    "import os\n",
    "from pandas import DataFrame"
   ]
  },
  {
   "cell_type": "code",
   "execution_count": null,
   "metadata": {},
   "outputs": [],
   "source": [
    "import webbrowser\n",
    "website ='https://datahub.io/core/covid-19#data'\n",
    "webbrowser.open(website)"
   ]
  },
  {
   "cell_type": "code",
   "execution_count": null,
   "metadata": {},
   "outputs": [],
   "source": [
    "#finds the directory path for the file\n",
    "dir_path = os.path.dirname(os.path.realpath('countries-aggregated.csv'))\n",
    "dir_path"
   ]
  },
  {
   "cell_type": "code",
   "execution_count": null,
   "metadata": {},
   "outputs": [],
   "source": [
    "#Finds all the files in the directory\n",
    "f = []\n",
    "for (dirpath, dirnames, filenames) in os.walk(dir_path):\n",
    "    f.extend(filenames)\n",
    "    break"
   ]
  },
  {
   "cell_type": "code",
   "execution_count": null,
   "metadata": {},
   "outputs": [],
   "source": [
    "f"
   ]
  },
  {
   "cell_type": "code",
   "execution_count": null,
   "metadata": {},
   "outputs": [],
   "source": [
    "#Makes a list of all the files with the .csv ending\n",
    "files=[]\n",
    "for Type in f:\n",
    "    if Type.endswith('.csv'):\n",
    "        files.append(Type)"
   ]
  },
  {
   "cell_type": "code",
   "execution_count": null,
   "metadata": {},
   "outputs": [],
   "source": [
    "files"
   ]
  },
  {
   "cell_type": "code",
   "execution_count": null,
   "metadata": {},
   "outputs": [],
   "source": [
    "# Makes a list of all the filenames\n",
    "dfs_names=[]\n",
    "for x in files:\n",
    "    n, q =x.split('.')\n",
    "    dfs_names.append(n)"
   ]
  },
  {
   "cell_type": "code",
   "execution_count": null,
   "metadata": {},
   "outputs": [],
   "source": [
    "dfs_names"
   ]
  },
  {
   "cell_type": "code",
   "execution_count": null,
   "metadata": {},
   "outputs": [],
   "source": [
    "# Creats a dictionary with all my .cvs files so that I can analyze it with Pandas\n",
    "dfs={}\n",
    "for dfn,file in zip(dfs_names, files):\n",
    "    dfs[dfn] = pd.read_csv(file)\n",
    "    print(dfs[dfn].shape)\n",
    "    print(dfs[dfn].dtypes)\n",
    "dfs.keys()"
   ]
  },
  {
   "cell_type": "code",
   "execution_count": null,
   "metadata": {},
   "outputs": [],
   "source": [
    "dfs[\"us_confirmed\"]"
   ]
  },
  {
   "cell_type": "code",
   "execution_count": null,
   "metadata": {},
   "outputs": [],
   "source": [
    "us_confirmed = dfs[\"us_confirmed\"]"
   ]
  },
  {
   "cell_type": "code",
   "execution_count": null,
   "metadata": {},
   "outputs": [],
   "source": [
    "# Gets the data from California only\n",
    "Cal=us_confirmed[us_confirmed['Province/State']=='California']"
   ]
  },
  {
   "cell_type": "code",
   "execution_count": null,
   "metadata": {},
   "outputs": [],
   "source": [
    "# Indexes the data by Admin2 (aka cities) and Dates\n",
    "#This unstacks the cities into their own hirerarchy\n",
    "dframe=Cal.set_index(['Admin2','Date']).unstack('Admin2')['Case']\n",
    "dframe"
   ]
  },
  {
   "cell_type": "code",
   "execution_count": null,
   "metadata": {},
   "outputs": [],
   "source": [
    "dframe.plot(title=('California'),figsize=(20,30))"
   ]
  },
  {
   "cell_type": "code",
   "execution_count": null,
   "metadata": {},
   "outputs": [],
   "source": [
    "dframe.describe()"
   ]
  },
  {
   "cell_type": "code",
   "execution_count": null,
   "metadata": {},
   "outputs": [],
   "source": [
    "dframe.plot.hist(title=('California'),figsize=(20,30))"
   ]
  },
  {
   "cell_type": "code",
   "execution_count": null,
   "metadata": {},
   "outputs": [],
   "source": [
    "dframe.columns"
   ]
  },
  {
   "cell_type": "code",
   "execution_count": null,
   "metadata": {},
   "outputs": [],
   "source": [
    "California_Cities=[]\n",
    "for i in dframe.columns:\n",
    "    California_Cities.append(dframe[i])\n",
    "dframe_Cal=DataFrame(California_Cities)    "
   ]
  },
  {
   "cell_type": "code",
   "execution_count": null,
   "metadata": {},
   "outputs": [],
   "source": [
    "dframe_Cal"
   ]
  },
  {
   "cell_type": "code",
   "execution_count": null,
   "metadata": {},
   "outputs": [],
   "source": [
    "dframe_Cal.plot(figsize=(30,20),legend=False)"
   ]
  },
  {
   "cell_type": "code",
   "execution_count": null,
   "metadata": {},
   "outputs": [],
   "source": [
    "dframe_Cal.plot.bar(figsize=(30,20),legend=False)"
   ]
  },
  {
   "cell_type": "code",
   "execution_count": null,
   "metadata": {},
   "outputs": [],
   "source": [
    "dframe_Cal.describe()"
   ]
  },
  {
   "cell_type": "code",
   "execution_count": null,
   "metadata": {},
   "outputs": [],
   "source": [
    "fig_1=dframe_Cal['2021-01-04'].plot.bar(title='2021-01-04 Cases in CA Cities',figsize=(30,10),fontsize=20)"
   ]
  },
  {
   "cell_type": "code",
   "execution_count": null,
   "metadata": {},
   "outputs": [],
   "source": [
    "fig_2=dframe_Cal['2020-11-04'].plot.bar(title='2020-11-04 Cases in CA Cities',figsize=(30,10),fontsize=20)"
   ]
  },
  {
   "cell_type": "code",
   "execution_count": null,
   "metadata": {},
   "outputs": [],
   "source": [
    "fig1=[dframe_Cal['2020-11-04'],dframe_Cal['2021-01-04']]\n",
    "DataFrame(fig1).plot.bar(figsize=(30,20),fontsize=20)"
   ]
  },
  {
   "cell_type": "code",
   "execution_count": null,
   "metadata": {},
   "outputs": [],
   "source": [
    "fig2=dframe_Cal['2021-01-04']-dframe_Cal['2020-11-04']\n",
    "DataFrame(fig2).plot.bar(title='Diff 2020-11-04 to 2021-01-04 Cases in CA Cities',figsize=(30,10),legend=False,fontsize=20)"
   ]
  },
  {
   "cell_type": "code",
   "execution_count": null,
   "metadata": {},
   "outputs": [],
   "source": [
    "states=set(us_confirmed['Province/State'])\n",
    "states"
   ]
  },
  {
   "cell_type": "code",
   "execution_count": null,
   "metadata": {},
   "outputs": [],
   "source": [
    "dates=set(us_confirmed['Date'])\n",
    "dates"
   ]
  },
  {
   "cell_type": "code",
   "execution_count": null,
   "metadata": {},
   "outputs": [],
   "source": [
    "dframe1=DataFrame(np.arange(len(states)),states)\n",
    "dframe1"
   ]
  },
  {
   "cell_type": "code",
   "execution_count": null,
   "metadata": {},
   "outputs": [],
   "source": [
    "dframe2=DataFrame(np.arange(len(dates)),dates)\n",
    "dframe2"
   ]
  },
  {
   "cell_type": "code",
   "execution_count": null,
   "metadata": {},
   "outputs": [],
   "source": [
    "us_confirmed.columns"
   ]
  },
  {
   "cell_type": "code",
   "execution_count": null,
   "metadata": {},
   "outputs": [],
   "source": [
    "States_confirmed=[]\n",
    "for state in states:\n",
    "    States_confirmed.append (us_confirmed[us_confirmed['Province/State']==state])\n",
    "States_confirmed"
   ]
  },
  {
   "cell_type": "code",
   "execution_count": null,
   "metadata": {},
   "outputs": [],
   "source": [
    "DataFrame(States_confirmed[0]).columns"
   ]
  },
  {
   "cell_type": "markdown",
   "metadata": {},
   "source": [
    "**In this the states are the column headers but the columns are actually all rolled into the 0th column.**\n",
    "\n",
    "**I need each individual column for these to be subdivided into the first 4 columns.**"
   ]
  },
  {
   "cell_type": "code",
   "execution_count": null,
   "metadata": {},
   "outputs": [],
   "source": [
    "dframe3=DataFrame(dframe2,columns=[DataFrame(States_confirmed[0]).columns])\n",
    "dframe3"
   ]
  },
  {
   "cell_type": "code",
   "execution_count": null,
   "metadata": {},
   "outputs": [],
   "source": [
    "#Makes a dataframe with each state having their own key\n",
    "dframe4=DataFrame(States_confirmed,states)\n",
    "dframe4"
   ]
  },
  {
   "cell_type": "code",
   "execution_count": null,
   "metadata": {},
   "outputs": [],
   "source": [
    "dframe4.keys"
   ]
  },
  {
   "cell_type": "code",
   "execution_count": null,
   "metadata": {},
   "outputs": [],
   "source": [
    "#These keys for the states are in column 0 however so can't be called on their own\n",
    "dframe5=DataFrame(dframe4[0]['Indiana'])\n",
    "dframe5"
   ]
  },
  {
   "cell_type": "code",
   "execution_count": null,
   "metadata": {},
   "outputs": [],
   "source": [
    "#Separate each city (aka Admin2) as a different column and show the cases by date\n",
    "dframe6=dframe5.set_index(['Admin2','Date']).unstack('Admin2')['Case']\n",
    "dframe6"
   ]
  },
  {
   "cell_type": "code",
   "execution_count": null,
   "metadata": {},
   "outputs": [],
   "source": [
    "dframe6.plot(title=('Indiana'),figsize=(20,30),fontsize=15)"
   ]
  },
  {
   "cell_type": "code",
   "execution_count": null,
   "metadata": {},
   "outputs": [],
   "source": [
    "dframe6.describe()"
   ]
  },
  {
   "cell_type": "code",
   "execution_count": null,
   "metadata": {},
   "outputs": [],
   "source": [
    "#Histogram plot... but what are the X and Y axis? Maybe I wanted a boxplot?\n",
    "dframe6.plot.hist(title=('Indiana'),figsize=(20,30))"
   ]
  },
  {
   "cell_type": "code",
   "execution_count": null,
   "metadata": {},
   "outputs": [],
   "source": [
    "# Concatinate all the different states (which were seperated) Into one DataFrame\n",
    "# how is this different if I made the DataFrame frome the start?\n",
    "dframe9=pd.concat(States_confirmed)\n",
    "dframe9"
   ]
  },
  {
   "cell_type": "code",
   "execution_count": null,
   "metadata": {},
   "outputs": [],
   "source": [
    "dframe10=DataFrame(us_confirmed)\n",
    "dframe10"
   ]
  },
  {
   "cell_type": "code",
   "execution_count": null,
   "metadata": {},
   "outputs": [],
   "source": [
    "dframe9.sort_values(['Province/State','Admin2'])"
   ]
  },
  {
   "cell_type": "code",
   "execution_count": null,
   "metadata": {},
   "outputs": [],
   "source": [
    "dframe9==dframe10"
   ]
  },
  {
   "cell_type": "code",
   "execution_count": null,
   "metadata": {},
   "outputs": [],
   "source": [
    "#Well can't compare them that way, but they look identical... So much time wasted?"
   ]
  },
  {
   "cell_type": "code",
   "execution_count": null,
   "metadata": {},
   "outputs": [],
   "source": [
    "# Lets setup a hirearchy of indexes that I wish to look at.\n",
    "# Maybe if I arrange the data in a hirearchy then I can have the data arranged by each of these sub headings\n",
    "dframe11=DataFrame(index=list(dates), columns=[['Country/Region'],['Province/State'],['County'],['Case']])\n",
    "dframe11.index.name='Date'\n",
    "dframe11"
   ]
  },
  {
   "cell_type": "code",
   "execution_count": null,
   "metadata": {},
   "outputs": [],
   "source": [
    "# Now how do I fit my data into this hirearchy?"
   ]
  },
  {
   "cell_type": "code",
   "execution_count": null,
   "metadata": {},
   "outputs": [],
   "source": [
    "dframe11.merge(dframe11,dframe9, on='Date',how='inner')"
   ]
  },
  {
   "cell_type": "code",
   "execution_count": null,
   "metadata": {},
   "outputs": [],
   "source": [
    "dframe6['Adams']"
   ]
  },
  {
   "cell_type": "code",
   "execution_count": null,
   "metadata": {},
   "outputs": [],
   "source": [
    "ser = pd.Series(np.random.randn(6),index=[['US','US','US','US','US','US'],\n",
    "                                          ['Indiana','Indiana','Indiana','Indiana','Indiana','Indiana'],\n",
    "                                          ['Adams','Adams','Adams','Allan','Allan','Allan'],\n",
    "                                         ['2020-01-22','2020-01-23','2020-01-24','2020-01-22','2020-01-23','2020-01-24']])\n",
    "ser"
   ]
  },
  {
   "cell_type": "code",
   "execution_count": null,
   "metadata": {},
   "outputs": [],
   "source": [
    "DataFrame(ser)"
   ]
  },
  {
   "cell_type": "code",
   "execution_count": null,
   "metadata": {},
   "outputs": [],
   "source": [
    "ser1 =pd.Series(dframe10['Case'],index=[dframe10['Country/Region'],dframe10['Province/State'],dframe10['Admin2'],dframe10['Date']])\n",
    "ser1"
   ]
  },
  {
   "cell_type": "code",
   "execution_count": null,
   "metadata": {},
   "outputs": [],
   "source": [
    "DataFrame(ser1)"
   ]
  },
  {
   "cell_type": "code",
   "execution_count": null,
   "metadata": {},
   "outputs": [],
   "source": []
  },
  {
   "cell_type": "code",
   "execution_count": null,
   "metadata": {},
   "outputs": [],
   "source": [
    "CA_Population_County = pd.read_clipboard()"
   ]
  },
  {
   "cell_type": "code",
   "execution_count": null,
   "metadata": {},
   "outputs": [],
   "source": [
    "CA_Population_County"
   ]
  },
  {
   "cell_type": "code",
   "execution_count": null,
   "metadata": {},
   "outputs": [],
   "source": [
    "CA_pop=DataFrame(CA_Population_County).unstack()"
   ]
  },
  {
   "cell_type": "code",
   "execution_count": null,
   "metadata": {},
   "outputs": [],
   "source": [
    "CA_pop"
   ]
  },
  {
   "cell_type": "code",
   "execution_count": null,
   "metadata": {},
   "outputs": [],
   "source": [
    "a=list(CA_pop)"
   ]
  },
  {
   "cell_type": "code",
   "execution_count": null,
   "metadata": {},
   "outputs": [],
   "source": [
    "# convert list to numpy array\n",
    "np_array=np.asarray(a)\n",
    "# reshape array into 4 rows x 2 columns, and transpose the result\n",
    "reshaped_array = np_array.reshape(2, 58).T"
   ]
  },
  {
   "cell_type": "code",
   "execution_count": null,
   "metadata": {},
   "outputs": [],
   "source": [
    "reshaped_array"
   ]
  },
  {
   "cell_type": "code",
   "execution_count": null,
   "metadata": {},
   "outputs": [],
   "source": [
    "a=DataFrame(California_Cities)['2021-01-04']"
   ]
  },
  {
   "cell_type": "code",
   "execution_count": null,
   "metadata": {},
   "outputs": [],
   "source": [
    "a"
   ]
  },
  {
   "cell_type": "code",
   "execution_count": null,
   "metadata": {},
   "outputs": [],
   "source": []
  }
 ],
 "metadata": {
  "kernelspec": {
   "display_name": "Python 3",
   "language": "python",
   "name": "python3"
  },
  "language_info": {
   "codemirror_mode": {
    "name": "ipython",
    "version": 3
   },
   "file_extension": ".py",
   "mimetype": "text/x-python",
   "name": "python",
   "nbconvert_exporter": "python",
   "pygments_lexer": "ipython3",
   "version": "3.7.6"
  }
 },
 "nbformat": 4,
 "nbformat_minor": 4
}
