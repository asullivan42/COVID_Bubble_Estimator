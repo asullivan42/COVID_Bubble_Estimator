{
 "cells": [
  {
   "cell_type": "markdown",
   "metadata": {},
   "source": [
    "This is where I am experimenting with how to call and download the data from datahub's Covid-19 database\n",
    "\n",
    "The location of the data site is https://datahub.io/core/covid-19#data\n",
    "The files are in both JSON and CSV file format\n",
    "\n",
    "US data is located at /core/covid-19/r/us_confirmed.cvs (or .json)\n",
    "US data is located at /core/covid-19/r/us_deaths.cvs (or .json)"
   ]
  },
  {
   "cell_type": "code",
   "execution_count": 1,
   "metadata": {},
   "outputs": [],
   "source": [
    "import requests\n",
    "import bs4\n",
    "import numpy\n",
    "import pandas"
   ]
  },
  {
   "cell_type": "code",
   "execution_count": null,
   "metadata": {},
   "outputs": [],
   "source": [
    "## Code to search the datahub website to find and download the latest data.\n",
    "## This can of course be addressed manually but for practice this code would \n",
    "## help me search for the link to download the data\n",
    "\n",
    "base_url =\"https://datahub.io/core/covid-19#data\"\n",
    "res = bs4.BeautifulSoup(request.get(base_url).text,\"lxml\")\n",
    "res.select(#Input search criteria here)"
   ]
  }
 ],
 "metadata": {
  "kernelspec": {
   "display_name": "Python 3",
   "language": "python",
   "name": "python3"
  },
  "language_info": {
   "codemirror_mode": {
    "name": "ipython",
    "version": 3
   },
   "file_extension": ".py",
   "mimetype": "text/x-python",
   "name": "python",
   "nbconvert_exporter": "python",
   "pygments_lexer": "ipython3",
   "version": "3.7.6"
  }
 },
 "nbformat": 4,
 "nbformat_minor": 4
}
